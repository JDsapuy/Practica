{
  "nbformat": 4,
  "nbformat_minor": 0,
  "metadata": {
    "colab": {
      "provenance": [],
      "include_colab_link": true
    },
    "kernelspec": {
      "name": "python3",
      "display_name": "Python 3"
    },
    "language_info": {
      "name": "python"
    }
  },
  "cells": [
    {
      "cell_type": "markdown",
      "metadata": {
        "id": "view-in-github",
        "colab_type": "text"
      },
      "source": [
        "<a href=\"https://colab.research.google.com/github/JDsapuy/Practica/blob/main/Copia_de_EJERCICIOS_CICLOS.ipynb\" target=\"_parent\"><img src=\"https://colab.research.google.com/assets/colab-badge.svg\" alt=\"Open In Colab\"/></a>"
      ]
    },
    {
      "cell_type": "markdown",
      "source": [
        "# **I. SENTENCIAS DE CONTROL**\n"
      ],
      "metadata": {
        "id": "-RovG2RUnCTM"
      }
    },
    {
      "cell_type": "markdown",
      "source": [
        "### 1. Suponga que un individuo desea invertir su capital en un banco y desea saber cuánto dinero ganará después de un mes si el banco paga a razón de 15% efectivo anual.\n"
      ],
      "metadata": {
        "id": "TMwXcGkpnMNE"
      }
    },
    {
      "cell_type": "code",
      "source": [],
      "metadata": {
        "id": "smvRPhe7nRaA"
      },
      "execution_count": null,
      "outputs": []
    },
    {
      "cell_type": "markdown",
      "source": [
        "### 2. Un vendedor recibe un sueldo base, más un 10% extra por comisión de sus ventas, el vendedor desea saber cuánto dinero obtendrá por concepto de comisiones por las tres ventas que realiza en el mes y el total que recibirá en el mes tomando en cuenta su sueldo base y comisiones."
      ],
      "metadata": {
        "id": "Fj5Y_bHMnTiM"
      }
    },
    {
      "cell_type": "code",
      "source": [],
      "metadata": {
        "id": "euuKL2U2ntOB"
      },
      "execution_count": null,
      "outputs": []
    },
    {
      "cell_type": "markdown",
      "source": [
        "### 3. Una tienda ofrece un descuento del 15% sobre el total de la compra y"
      ],
      "metadata": {
        "id": "JXL8DwI2nut6"
      }
    },
    {
      "cell_type": "code",
      "source": [
        "#Leer total_compra\n",
        "total_compra = float(input(\"Ingrese el total de la compra: \"))\n",
        "#descuento = total_compra * 0.15\n",
        "descuento = total_compra * 0.15\n",
        "#monto_final = total_compra - descuento\n",
        "monto_final = total_compra - descuento\n",
        "#Imprimir monto_final\n",
        "print(f\"El monto final a pagar después del 15% de descuento es: ${monto_final:,}\")"
      ],
      "metadata": {
        "id": "ud_Sb5T9nvcL",
        "colab": {
          "base_uri": "https://localhost:8080/"
        },
        "outputId": "493a97d9-0433-4777-83f4-55ef238dd64c"
      },
      "execution_count": null,
      "outputs": [
        {
          "output_type": "stream",
          "name": "stdout",
          "text": [
            "Ingrese el total de la compra: 50000\n",
            "El monto final a pagar después del 15% de descuento es: $42,500.0\n"
          ]
        }
      ]
    },
    {
      "cell_type": "markdown",
      "source": [
        "### 4. Un alumno desea saber cuál será su calificación final en la materia de Algoritmos. Dicha calificación se compone de los siguientes porcentajes: 40% del promedio de sus tres calificaciones parciales, 50% de la"
      ],
      "metadata": {
        "id": "NdA954_GnvrD"
      }
    },
    {
      "cell_type": "code",
      "source": [
        "#Leer nota1, nota2, nota3, examen_final, trabajo_final\n",
        "nota1 = float(input(\"Ingrese la nota del primer parcial: \"))\n",
        "nota2 = float(input(\"Ingrese la nota del segundo parcial: \"))\n",
        "nota3 = float(input(\"Ingrese la nota del tercer parcial: \"))\n",
        "examen_final = float(input(\"Ingrese la nota del examen final: \"))\n",
        "trabajo_final = float(input(\"Ingrese la nota del trabajo final: \"))\n",
        "\n",
        "#promedio_final = (nota1 + nota2 + nota3)/3\n",
        "promedio_final = (nota1 + nota2 + nota3)/3\n",
        "#calificacion_final = promedio_final * 0.4 + examen_final * 0.5 + trabajo_final * 0.1\n",
        "calificacion_final = promedio_final * 0.4 + examen_final * 0.5 + trabajo_final * 0.1\n",
        "#Escribir calificacion_final\n",
        "print(f'La calificación final en la materia de Algoritmos es: {calificacion_final:.3f}')"
      ],
      "metadata": {
        "id": "1SgM_J9pnv5C",
        "colab": {
          "base_uri": "https://localhost:8080/"
        },
        "outputId": "2da499fd-15f3-48e6-83a4-dfb0e63ba53b"
      },
      "execution_count": null,
      "outputs": [
        {
          "output_type": "stream",
          "name": "stdout",
          "text": [
            "Ingrese la nota del primer parcial: 4\n",
            "Ingrese la nota del segundo parcial: 2\n",
            "Ingrese la nota del tercer parcial: 5\n",
            "Ingrese la nota del examen final: 3.5\n",
            "Ingrese la nota del trabajo final: 5\n",
            "La calificación final en la materia de Algoritmos es: 3.717\n"
          ]
        }
      ]
    },
    {
      "cell_type": "markdown",
      "source": [
        "### 5. Dada una cantidad en pesos, obtener la equivalencia en dólares, asumiendo que la unidad cambiaría a un dato desconocido."
      ],
      "metadata": {
        "id": "7Flu-8qynwD6"
      }
    },
    {
      "cell_type": "code",
      "source": [],
      "metadata": {
        "id": "pgDeutgnnwPn"
      },
      "execution_count": null,
      "outputs": []
    },
    {
      "cell_type": "markdown",
      "source": [
        "### 6. Capturar un número y escribir el valor absoluto del mismo."
      ],
      "metadata": {
        "id": "WMtiBB8anwcY"
      }
    },
    {
      "cell_type": "code",
      "source": [],
      "metadata": {
        "id": "UNHpEgganwnA"
      },
      "execution_count": null,
      "outputs": []
    },
    {
      "cell_type": "markdown",
      "source": [
        "### 7. La presión, el volumen y la temperatura de una masa de aire se relacionan por la fórmula: masa = (presión * volumen)/(0.37* (temperatura + 460))"
      ],
      "metadata": {
        "id": "t_pdPWLYnwzw"
      }
    },
    {
      "cell_type": "code",
      "source": [],
      "metadata": {
        "id": "bP_8aGDYnxCa"
      },
      "execution_count": null,
      "outputs": []
    },
    {
      "cell_type": "markdown",
      "source": [
        "### 8. Calcular el número de pulsaciones que una persona debe tener por cada 10 segundos de ejercicio, si la fórmula es: numPulsaciones = (220 - edad)/10"
      ],
      "metadata": {
        "id": "L9ooz1ZonxPe"
      }
    },
    {
      "cell_type": "code",
      "source": [],
      "metadata": {
        "id": "48m0D_kvnxdH"
      },
      "execution_count": null,
      "outputs": []
    },
    {
      "cell_type": "markdown",
      "source": [
        "### 9. Un hombre desea saber cuánto dinero se genera por concepto de intereses sobre la cantidad que tiene en inversión en el banco. El decidirá reinvertir los intereses siempre y cuando estos excedan a $7000, y en ese caso desea saber cuánto dinero tendrá finalmente en su cuenta."
      ],
      "metadata": {
        "id": "-0S0xDpjnxqj"
      }
    },
    {
      "cell_type": "code",
      "source": [
        "cap = float(input(\"Ingrese el capital: \"))\n",
        "p_int = float(input(\"Ingrese el porcentaje de intereses: \"))\n",
        "capf = 0\n",
        "intereses = cap * p_int\n",
        "\n",
        "if intereses > 7000:\n",
        "  capf = cap + intereses\n",
        "#Fin-si\n",
        "print(capf)"
      ],
      "metadata": {
        "id": "hcgySiUcnx2r",
        "colab": {
          "base_uri": "https://localhost:8080/"
        },
        "outputId": "d384c4a4-7daf-4a05-cd93-93b83931ab77"
      },
      "execution_count": null,
      "outputs": [
        {
          "output_type": "stream",
          "name": "stdout",
          "text": [
            "Ingrese el capital: 10000\n",
            "Ingrese el porcentaje de intereses: 0.9\n",
            "19000.0\n"
          ]
        }
      ]
    },
    {
      "cell_type": "markdown",
      "source": [
        "### 10. Determinar si un alumno aprueba o reprueba un curso, sabiendo que aprobara si su promedio de tres calificaciones es mayor o igual a 70; reprueba en caso contrario."
      ],
      "metadata": {
        "id": "PuL-uuA2nyDC"
      }
    },
    {
      "cell_type": "code",
      "source": [
        "calif1 = float(input(\"Inserte la primera calificación: \"))\n",
        "calif2 = float(input(\"Inserte la segunda calificación: \"))\n",
        "calif3 = float(input(\"Inserte la tercera calificación: \"))\n",
        "prom = (calif1 + calif2 + calif3)/3\n",
        "\n",
        "if (prom >= 70):\n",
        "  print(prom, \"Estudiante aprobado\")\n",
        "else:\n",
        "  print(prom, \"Estudiante reprobado\")\n"
      ],
      "metadata": {
        "id": "of34jtFbnyQC",
        "colab": {
          "base_uri": "https://localhost:8080/"
        },
        "outputId": "b0427a85-208f-46b4-a3f8-0564560ce26a"
      },
      "execution_count": null,
      "outputs": [
        {
          "output_type": "stream",
          "name": "stdout",
          "text": [
            "Inserte la primera calificación: 1\n",
            "Inserte la segunda calificación: 10\n",
            "Inserte la tercera calificación: 100\n",
            "37.0 Estudiante reprobado\n"
          ]
        }
      ]
    },
    {
      "cell_type": "markdown",
      "source": [
        "### 11. Leer 2 números; si son iguales que los multiplique, si el primero es mayor que el segundo que los reste y si no que los sume."
      ],
      "metadata": {
        "id": "pEf0N0xVnyeP"
      }
    },
    {
      "cell_type": "code",
      "source": [
        "num1 = int(input(\"Ingrese el primer número: \"))\n",
        "num2 = int(input(\"Ingrese el segundo número: \"))\n",
        "resultado = 0\n",
        "\n",
        "if num1 == num2:\n",
        "  resultado = num1 * num2\n",
        "elif num1 > num2:\n",
        "  resultado = num1 - num2\n",
        "else:\n",
        "  resultado = num1 + num2\n",
        "\n",
        "print(resultado)"
      ],
      "metadata": {
        "id": "Y--F1w3RnyrY",
        "colab": {
          "base_uri": "https://localhost:8080/"
        },
        "outputId": "ff2a7195-12f9-4a0a-ecde-4e03d4977034"
      },
      "execution_count": null,
      "outputs": [
        {
          "output_type": "stream",
          "name": "stdout",
          "text": [
            "Ingrese el primer número: 5\n",
            "Ingrese el segundo número: 5\n",
            "25\n"
          ]
        }
      ]
    },
    {
      "cell_type": "markdown",
      "source": [
        "# II. ESTRUCTURA CONDICIONAL"
      ],
      "metadata": {
        "id": "IEu9nZ7Iny7i"
      }
    },
    {
      "cell_type": "markdown",
      "source": [
        "### 12. Determinar la cantidad de dinero que recibirá un trabajador por concepto de las horas extras trabajadas en una empresa, sabiendo que cuando las horas de trabajo exceden de 40, el resto se consideran horas extras y que estas se pagan al doble de una hora normal cuando no exceden de 8; si las horas extras exceden de 8 se pagan las primeras 8 al doble de lo que se pagan las horas normales y el resto al triple."
      ],
      "metadata": {
        "id": "n-KdK0ZfnzcK"
      }
    },
    {
      "cell_type": "code",
      "source": [],
      "metadata": {
        "id": "ES1LADjGpykY"
      },
      "execution_count": null,
      "outputs": []
    },
    {
      "cell_type": "markdown",
      "source": [
        "### 13. En una tienda de descuento se efectúa una promoción en la cual se hace un descuento sobre el valor de la compra total según el color de la bolita que el cliente saque al pagar en caja. Si la bolita es de color blanco no se le hará descuento alguno, si es verde se le hará un 10% de descuento, si es amarilla un 25%, si es azul un 50% y si es roja un 100%. Determinar la cantidad final que el cliente deberá pagar por su compra. se sabe que solo hay bolitas de los colores mencionados."
      ],
      "metadata": {
        "id": "gE5feHFGp11Q"
      }
    },
    {
      "cell_type": "code",
      "source": [],
      "metadata": {
        "id": "zsTgb0sDqDLK"
      },
      "execution_count": null,
      "outputs": []
    },
    {
      "cell_type": "markdown",
      "source": [
        "### 14. En una fábrica de computadoras se planea ofrecer a los clientes un descuento que dependerá del número de computadoras que compre. Si las computadoras son menos de cinco se les dará un 10% de descuento sobre el total de la compra, si el número de computadoras es mayor o igual a cinco pero menos de diez se le otorga un 20% de descuento; y si son 10 o más se les da un 40% de descuento. El precio de cada computadora es de $3.500.000"
      ],
      "metadata": {
        "id": "eFW_Wv0dqEHx"
      }
    },
    {
      "cell_type": "code",
      "source": [],
      "metadata": {
        "id": "v5aAM93VqLAz"
      },
      "execution_count": null,
      "outputs": []
    },
    {
      "cell_type": "markdown",
      "source": [
        "# III. ESTRUCTURA DE REPETICIÓN: FOR"
      ],
      "metadata": {
        "id": "1idK-JRhqLzZ"
      }
    },
    {
      "cell_type": "markdown",
      "source": [
        "### 15. Crear un algoritmo que muestre los primeros 10 números de la sucesión de Fibonacci. La sucesión comienza con los números 0 y 1 y, a partir de éstos, cada elemento es la suma de los dos números anteriores en la secuencia: 0, 1, 1, 2, 3, 5, 8, 13, 21, 34, 55..."
      ],
      "metadata": {
        "id": "VgRRNRQLqb7z"
      }
    },
    {
      "cell_type": "code",
      "source": [],
      "metadata": {
        "id": "dmhoqbmRqX6T"
      },
      "execution_count": null,
      "outputs": []
    },
    {
      "cell_type": "markdown",
      "source": [
        "### 16. Dado un número entero positivo, mostrar su factorial. El factorial de un número se obtiene multiplicando todos los números enteros positivos que hay entre el 1 y ese número."
      ],
      "metadata": {
        "id": "sp0sQ9DJqkbL"
      }
    },
    {
      "cell_type": "code",
      "source": [],
      "metadata": {
        "id": "f2AWCcbjqp2k"
      },
      "execution_count": null,
      "outputs": []
    },
    {
      "cell_type": "markdown",
      "source": [
        "### 17. Solicitar al usuario que ingrese una frase y luego imprimir la cantidad de vocales que se encuentran en dicha frase."
      ],
      "metadata": {
        "id": "-drkU4Soqwjx"
      }
    },
    {
      "cell_type": "code",
      "source": [],
      "metadata": {
        "id": "OiV10QFSqzKz"
      },
      "execution_count": null,
      "outputs": []
    },
    {
      "cell_type": "markdown",
      "source": [
        "### 18. Escribir un programa que solicite al usuario una cantidad y luego itere la cantidad de veces dada. En cada iteración, solicitar al usuario que ingrese un número. Al finalizar, mostrar la suma de todos los números ingresados."
      ],
      "metadata": {
        "id": "MfWjM_1mq0fj"
      }
    },
    {
      "cell_type": "code",
      "source": [],
      "metadata": {
        "id": "TL7sijy8q4fy"
      },
      "execution_count": null,
      "outputs": []
    },
    {
      "cell_type": "markdown",
      "source": [
        "### 19. Escribir un programa que permita al usuario ingresar 6 números enteros, que pueden ser positivos o negativos. Al finalizar, mostrar la sumatoria de los números negativos y el promedio de los positivos. Nota: No olvidar que no es posible dividir por cero, por lo que es necesario evitar que el programa arroje un error si no se ingresaron números positivos."
      ],
      "metadata": {
        "id": "YSv6m2tjq5IK"
      }
    },
    {
      "cell_type": "code",
      "source": [],
      "metadata": {
        "id": "hC9r9eBAq83h"
      },
      "execution_count": null,
      "outputs": []
    },
    {
      "cell_type": "markdown",
      "source": [
        "# IV. ESTRUCUTRA DE REPETICIÓN: WHILE"
      ],
      "metadata": {
        "id": "jCYShKGLq-OB"
      }
    },
    {
      "cell_type": "markdown",
      "source": [
        "### 20. Escriba un programa que capture un número entero y que compruebe si el número es menor que 10. Si no lo está, debe volver a capturar el número repitiendo la operación hasta que el usuario escriba un valor correcto. Finalmente, debe escribir por pantalla el valor leído cuando este sea correcto."
      ],
      "metadata": {
        "id": "qcMFrdAgrGo_"
      }
    },
    {
      "cell_type": "code",
      "source": [
        "#Leer numero entero\n",
        "numero = int(input(\"Ingrese un número menor a 10: \"))\n",
        "\n",
        "#Mientras numero >= 10 entonces\n",
        "while numero >= 10:\n",
        "  #Leer numero entero\n",
        "  numero = int(input(\"El número ingresado previamente no es menor a 10, ingrese otro número: \"))\n",
        "\n",
        "#Escribir numero\n",
        "print(f\"El número {numero} es menor a 10 :)\")"
      ],
      "metadata": {
        "id": "DkujX269rRCe",
        "colab": {
          "base_uri": "https://localhost:8080/"
        },
        "outputId": "7248f2ec-bb8b-4ea3-dc73-4749094a75d2"
      },
      "execution_count": null,
      "outputs": [
        {
          "output_type": "stream",
          "name": "stdout",
          "text": [
            "Ingrese un número menor a 10: 8\n",
            "El número 8 es menor a 10 :)\n"
          ]
        }
      ]
    },
    {
      "cell_type": "markdown",
      "source": [
        "### 21. Modifique el algoritmo del problema anterior para que, en vez de comprobar que el número sea menor que 10, compruebe que se encuentre en el rango (0, 20)."
      ],
      "metadata": {
        "id": "3vJaNuaqrRn-"
      }
    },
    {
      "cell_type": "code",
      "source": [
        "#Leer numero entero\n",
        "numero = int(input(\"Ingrese un número entre el rango [0, 20] \"))\n",
        "\n",
        "#Mientras numero >= 10 entonces\n",
        "while numero <= 0 or numero >= 20:\n",
        "  #Leer numero entero\n",
        "  numero = int(input(\"El número ingresado previamente no está en el rango [0, 20], ingrese otro número: \"))\n",
        "\n",
        "#Escribir numero\n",
        "print(f\"El número {numero} está entre el rango [0, 20] :)\")"
      ],
      "metadata": {
        "id": "WuQ44uBgrVNK",
        "colab": {
          "base_uri": "https://localhost:8080/"
        },
        "outputId": "a16b07db-ee27-4786-e5e1-4da9d1333447"
      },
      "execution_count": null,
      "outputs": [
        {
          "output_type": "stream",
          "name": "stdout",
          "text": [
            "Ingrese un número entre el rango [0, 20] 20\n",
            "El número ingresado previamente no está en el rango [0, 20], ingrese otro número: 10\n",
            "El número 10 está entre el rango [0, 20] :)\n"
          ]
        }
      ]
    },
    {
      "cell_type": "markdown",
      "source": [
        "### 22. Escriba un programa que sume los números ingresados por el usuario hasta que el usuario ingrese el número 0 (detener las preguntas ante este escenario)."
      ],
      "metadata": {
        "id": "2DHzjEU-rW3a"
      }
    },
    {
      "cell_type": "code",
      "source": [
        "#suma = 0\n",
        "suma = 0\n",
        "\n",
        "#mientras condicion == verdadera entonces\n",
        "while True:\n",
        "  #leer numero\n",
        "  numero = int(input(\"Ingrese un número (0 para detener la suma): \"))\n",
        "  #si numero == 0 entonces\n",
        "  if numero == 0:\n",
        "    break\n",
        "  suma += numero\n",
        "\n",
        "#Imprimir suma\n",
        "print(f\"La suma de los números ingresados es: {suma}\")"
      ],
      "metadata": {
        "id": "CymLbyAqrcYQ",
        "colab": {
          "base_uri": "https://localhost:8080/"
        },
        "outputId": "548f0ab9-e696-4a2b-bd4b-aac45c9678a7"
      },
      "execution_count": null,
      "outputs": [
        {
          "output_type": "stream",
          "name": "stdout",
          "text": [
            "Ingrese un número (0 para detener la suma): 10\n",
            "Ingrese un número (0 para detener la suma): 8\n",
            "Ingrese un número (0 para detener la suma): 14\n",
            "Ingrese un número (0 para detener la suma): -15\n",
            "Ingrese un número (0 para detener la suma): 0\n",
            "La suma de los números ingresados es: 17\n"
          ]
        }
      ]
    },
    {
      "cell_type": "markdown",
      "source": [
        "### 23. Escriba un programa que sume los números ingresados por el usuario y cuando la suma sea superior a 100 deje de pedir números y muestre el total."
      ],
      "metadata": {
        "id": "R9l2vQeurdLc"
      }
    },
    {
      "cell_type": "code",
      "source": [
        "suma = 0\n",
        "while suma <= 100:\n",
        "  numero = int(input(\"Ingrese un número: \"))\n",
        "  suma += numero\n",
        "#fin-while\n",
        "print(f\"La suma de los números ingresados supera 100. Total: {suma}\")\n"
      ],
      "metadata": {
        "id": "F90qz2CprhqG",
        "colab": {
          "base_uri": "https://localhost:8080/"
        },
        "outputId": "ef5ef8af-05d0-4e55-a606-90099f22aa29"
      },
      "execution_count": null,
      "outputs": [
        {
          "output_type": "stream",
          "name": "stdout",
          "text": [
            "Ingrese un número: 25\n",
            "Ingrese un número: 30\n",
            "Ingrese un número: 45\n",
            "Ingrese un número: 10\n",
            "La suma de los números ingresados supera 100. Total: 110\n"
          ]
        }
      ]
    },
    {
      "cell_type": "code",
      "source": [],
      "metadata": {
        "id": "C2-rZcmor0nx"
      },
      "execution_count": null,
      "outputs": []
    }
  ]
}